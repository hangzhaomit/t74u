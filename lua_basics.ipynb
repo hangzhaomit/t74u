{
 "cells": [
  {
   "cell_type": "markdown",
   "metadata": {},
   "source": [
    "# Houston We Have a Programmer: A Crash Course in Lua"
   ]
  },
  {
   "cell_type": "markdown",
   "metadata": {},
   "source": [
    "One of the defining aspects of Torch is that one interfaces with it uses the Lua language.\n",
    "\n",
    "\"What sort of spacey person would choose Lua over Python?!?\" you ask.\n",
    "\n",
    "Excellent question! The short answer is that Lua is lightweight and has a [stellar interpreter](http://luajit.org/), that rivals the performance of C and provides easy access to compiled C and CUDA methods. The result is that, instead of defining a computation in a slow language (like Python) and running it in another language (c.f. Theano, TensorFlow), the Lua code that you write is actually what is run! This has a bunch of nifty benefits, the most important of which is debuggability. More on this later, though... First we must learn some moonspeak!"
   ]
  },
  {
   "cell_type": "markdown",
   "metadata": {},
   "source": [
    "## Lua Syntax & Semantics"
   ]
  },
  {
   "cell_type": "code",
   "execution_count": 1,
   "metadata": {
    "collapsed": false
   },
   "outputs": [
    {
     "data": {
      "text/plain": [
       "Hello, world!\t\n"
      ]
     },
     "execution_count": 1,
     "metadata": {},
     "output_type": "execute_result"
    }
   ],
   "source": [
    "print('Hello, world!') -- shout it from the moon!"
   ]
  },
  {
   "cell_type": "markdown",
   "metadata": {},
   "source": [
    "Okay, so far so good! So far, we can tell that strings are surrounded by quotes (single or double), functions are called using the `()` operator, and comments are prefixed with `--`.\n",
    "\n",
    "You might be thinking that Lua looks a bit like our good friend Python. Well, not quite... A more apt comparison would be to the syntax of Go with the semantics of JavaScript. On the plus side, though, a simple language is also simpler to learn. Let's forge on!\n",
    "\n",
    "### Variables\n",
    "\n",
    "Like C, Java, and JavaScript, Lua is [lexically scoped](https://en.wikipedia.org/wiki/Scope_%28computer_science%29#Lexical_scope_vs._dynamic_scope), which means that a local variable, defined using the `local` keyword is only bound within the smallest block that contains it. Similarly to JavaScript, a variable defined without using `local` (c.f. `var`) is global and can be accessed anywhere in the program; this is generally a Bad Thing&trade;.\n",
    "\n",
    "In Lua, a block, very generally, is any control structure or definition that end with the keyword `end`. The following example demonstrates the `do ... end` block which does nothing other than define a block:"
   ]
  },
  {
   "cell_type": "code",
   "execution_count": 2,
   "metadata": {
    "collapsed": false
   },
   "outputs": [],
   "source": [
    "local a = 42\n",
    "do\n",
    "    print('a = '..a)\n",
    "    b = 4\n",
    "    local c = 5\n",
    "end\n",
    "print('b = '..b)"
   ]
  },
  {
   "cell_type": "markdown",
   "metadata": {},
   "source": [
    "Okay, but what happens if we try to print out `c`?"
   ]
  },
  {
   "cell_type": "code",
   "execution_count": 3,
   "metadata": {
    "collapsed": false
   },
   "outputs": [
    {
     "ename": "[string \"print('c = '..c)...\"]:1: attempt to concatenate global 'c' (a nil value)\nstack traceback:\n\t[string \"print('c = '..c)...\"]:1: in main chunk\n\t[C]: in function 'xpcall'\n\t/Users/nhynes/torch/install/share/lua/5.1/itorch/main.lua:209: in function </Users/nhynes/torch/install/share/lua/5.1/itorch/main.lua:173>\n\t/Users/nhynes/torch/install/share/lua/5.1/lzmq/poller.lua:75: in function 'poll'\n\t...rs/nhynes/torch/install/share/lua/5.1/lzmq/impl/loop.lua:307: in function 'poll'\n\t...rs/nhynes/torch/install/share/lua/5.1/lzmq/impl/loop.lua:325: in function 'sleep_ex'\n\t...rs/nhynes/torch/install/share/lua/5.1/lzmq/impl/loop.lua:370: in function 'start'\n\t/Users/nhynes/torch/install/share/lua/5.1/itorch/main.lua:381: in main chunk\n\t[C]: in function 'require'\n\t(command line):1: in main chunk\n\t[C]: at 0x010c48dd10",
     "evalue": "",
     "output_type": "error",
     "traceback": [
      "[string \"print('c = '..c)...\"]:1: attempt to concatenate global 'c' (a nil value)\nstack traceback:\n\t[string \"print('c = '..c)...\"]:1: in main chunk\n\t[C]: in function 'xpcall'\n\t/Users/nhynes/torch/install/share/lua/5.1/itorch/main.lua:209: in function </Users/nhynes/torch/install/share/lua/5.1/itorch/main.lua:173>\n\t/Users/nhynes/torch/install/share/lua/5.1/lzmq/poller.lua:75: in function 'poll'\n\t...rs/nhynes/torch/install/share/lua/5.1/lzmq/impl/loop.lua:307: in function 'poll'\n\t...rs/nhynes/torch/install/share/lua/5.1/lzmq/impl/loop.lua:325: in function 'sleep_ex'\n\t...rs/nhynes/torch/install/share/lua/5.1/lzmq/impl/loop.lua:370: in function 'start'\n\t/Users/nhynes/torch/install/share/lua/5.1/itorch/main.lua:381: in main chunk\n\t[C]: in function 'require'\n\t(command line):1: in main chunk\n\t[C]: at 0x010c48dd10"
     ]
    }
   ],
   "source": [
    "print('c = '..c)"
   ]
  },
  {
   "cell_type": "markdown",
   "metadata": {},
   "source": [
    "Cool, we get an error! Let's break it down a bit and, in doing so, notice something unique about Lua.\n",
    "\n",
    "At first blush, it seems like Lua is complaining that `c` doesn't exist. That would be a very wrong interpretation, though. Looking more closely, it's saying that the problem is that we tried to concatenate a string with `nil`. What's more is that it states that `c` is some global variable! That can't be right... Ah ha! Here's the tricky part: **any undefined variable defaults to `nil`** and, since our local `c` has gone out of scope, the only option is a global variable that hasn't been defined!\n",
    "\n",
    "The main takeaway, here, is that Lua will not complain about undefined variables and--even worse--treat them as `nil`, so if you're not careful, your program might be silently failing!\n",
    "\n",
    "**Note:** a single line/program entered into the iTorch notebook or Torch REPL is implicitly enclosed in a block, so variables have to be defined globally to persist across lines.\n",
    "\n",
    "Okay, now that we have somewhere to store our stuff, let's look at some of the stuff we can store!"
   ]
  },
  {
   "cell_type": "markdown",
   "metadata": {},
   "source": [
    "### Functions\n",
    "\n",
    "It'd be tough to write code that trains function approximators without having some way to define functions, themselves!"
   ]
  },
  {
   "cell_type": "code",
   "execution_count": 4,
   "metadata": {
    "collapsed": true
   },
   "outputs": [],
   "source": [
    "function trainBatch(net, data, labels, learningRate)\n",
    "    local loss = forward(net, data, labels)\n",
    "    backward(net, loss)\n",
    "    updateParameters(net, learningRate)\n",
    "    return loss\n",
    "end"
   ]
  },
  {
   "cell_type": "markdown",
   "metadata": {},
   "source": [
    "### Tables\n",
    "\n",
    "We've saved the best for last: tables. Similarly to JavaScript in which everything is an Object, most things in Lua are tables. If you're coming from Python, you might think of them as a mash-up of a `dict` and a `list` with the extra ability to be used as objects."
   ]
  },
  {
   "cell_type": "code",
   "execution_count": 5,
   "metadata": {
    "collapsed": false
   },
   "outputs": [
    {
     "data": {
      "text/plain": [
       "t[1] = 1\t\n",
       "The contiguous array part of t, starting at 1, has size 3\t\n"
      ]
     },
     "execution_count": 5,
     "metadata": {},
     "output_type": "execute_result"
    }
   ],
   "source": [
    "t = {[0]=0, 1, 2, 3}    -- create a table with an array part holding [1,2,3] and a dict part holding 0=0\n",
    "print('t[1] = '..t[1])  -- Lua uses 1-indexing!\n",
    "print('The contiguous array part of t, starting at 1, has size '..#t)"
   ]
  },
  {
   "cell_type": "code",
   "execution_count": 6,
   "metadata": {
    "collapsed": false
   },
   "outputs": [
    {
     "data": {
      "text/plain": [
       "4\t\n",
       "0\t\n"
      ]
     },
     "execution_count": 6,
     "metadata": {},
     "output_type": "execute_result"
    }
   ],
   "source": [
    "-- add some stuff to the dict part\n",
    "t.rng = function() return 4 end\n",
    "print(t.rng())\n",
    "\n",
    "function t.someOtherFn()\n",
    "    print('^ shorthand for defining functions in tables')\n",
    "end\n",
    "\n",
    "t['0'] = ''\n",
    "print(t[0]) -- numbers are not auto-converted! (c.f. JavaScript)"
   ]
  },
  {
   "cell_type": "markdown",
   "metadata": {},
   "source": [
    "#### OOP\n",
    "\n",
    "If you were paying attention, you'll remember that I mentioned that tables are also used for OOP. The syntax here gets a bit weird but if you can get through this part, it's all downhill from here.\n",
    "\n",
    "Really, the only thing that you need to know is that calling a table function (like `t.rng`, above), accessed with `:` instead of `.`, will pass *the table itself* as the first argument, `self`. This is similar to how Python works.\n",
    "\n",
    "Fortunately, Torch makes it easy to define and use classes using [`torch.class`](https://github.com/torch/torch7/blob/master/doc/utility.md#torch.class):"
   ]
  },
  {
   "cell_type": "code",
   "execution_count": 3,
   "metadata": {
    "collapsed": false
   },
   "outputs": [
    {
     "data": {
      "text/plain": [
       "Learning ALL the things!\t\n"
      ]
     },
     "execution_count": 3,
     "metadata": {},
     "output_type": "execute_result"
    }
   ],
   "source": [
    "require 'nn' -- import the neural network package\n",
    "\n",
    "MyModule, parent = torch.class('nn.MyModule', 'nn.Module')\n",
    "\n",
    "function MyModule:__init() -- same as MyModule.__init(self)\n",
    "    parent.__init(self)\n",
    "    self.learning = 'ALL the things!'\n",
    "end\n",
    "\n",
    "function MyModule:updateOutput(input)\n",
    "    print('Learning '..self.learning)\n",
    "end\n",
    "\n",
    "mod = nn.MyModule() -- create a new nn.MyModule\n",
    "mod:updateOutput(torch.rand(3, 3))"
   ]
  },
  {
   "cell_type": "markdown",
   "metadata": {},
   "source": [
    "Great, that's about as tough at it gets. Now on to the easy stuff.\n",
    "\n",
    "### Control Flow: Conditionals"
   ]
  },
  {
   "cell_type": "code",
   "execution_count": 8,
   "metadata": {
    "collapsed": false
   },
   "outputs": [],
   "source": [
    "local aBool = 42\n",
    "if aBool == '42' then\n",
    "    print('Yay, strings!')\n",
    "elseif aBool >= 42 then\n",
    "    print('A big number!')\n",
    "else\n",
    "    print(\"I have no idea what's going on!\")\n",
    "end"
   ]
  },
  {
   "cell_type": "markdown",
   "metadata": {},
   "source": [
    "### Control Flow: Loops"
   ]
  },
  {
   "cell_type": "code",
   "execution_count": 9,
   "metadata": {
    "collapsed": false
   },
   "outputs": [
    {
     "data": {
      "text/plain": [
       "A big number!\t\n"
      ]
     },
     "execution_count": 9,
     "metadata": {},
     "output_type": "execute_result"
    }
   ],
   "source": [
    "for i=3,5 do\n",
    "    print(i)\n",
    "end"
   ]
  },
  {
   "cell_type": "code",
   "execution_count": 10,
   "metadata": {
    "collapsed": false
   },
   "outputs": [
    {
     "data": {
      "text/plain": [
       "3\t\n",
       "4\t\n",
       "5\t\n"
      ]
     },
     "execution_count": 9,
     "metadata": {},
     "output_type": "execute_result"
    },
    {
     "data": {
      "text/plain": [
       "t[1] = a\t\n",
       "t[2] = b\t\n",
       "t[7] = you bet!\t\n"
      ]
     },
     "execution_count": 10,
     "metadata": {},
     "output_type": "execute_result"
    }
   ],
   "source": [
    "t = {'a', 'b', [7]='you bet!'}\n",
    "for k,v in pairs(t) do\n",
    "    print('t['..k..'] = '..v)\n",
    "end"
   ]
  },
  {
   "cell_type": "markdown",
   "metadata": {},
   "source": [
    "As a final (and largely irrelevant) note, like `return` a `break` statement must be the final statement in a block (even if only a  `do...end` ) and the `continue` statement doesn't exist."
   ]
  },
  {
   "cell_type": "markdown",
   "metadata": {},
   "source": [
    "# 🎉 Congratulations, you made it! 🎉\n",
    "\n",
    "You now know everything you need to start doing actual deep learning in Torch!"
   ]
  }
 ],
 "metadata": {
  "kernelspec": {
   "display_name": "iTorch",
   "language": "lua",
   "name": "itorch"
  },
  "language_info": {
   "name": "lua",
   "version": "5.1"
  }
 },
 "nbformat": 4,
 "nbformat_minor": 1
}
